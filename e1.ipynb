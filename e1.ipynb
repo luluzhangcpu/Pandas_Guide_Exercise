{
 "cells": [
  {
   "cell_type": "code",
   "execution_count": 1,
   "metadata": {},
   "outputs": [],
   "source": [
    "import pandas as pd\n",
    "import numpy as np"
   ]
  },
  {
   "cell_type": "code",
   "execution_count": 2,
   "metadata": {},
   "outputs": [
    {
     "name": "stdout",
     "output_type": "stream",
     "text": [
      "   AAA  BBB  CCC\n",
      "0    4   10  100\n",
      "1    5   20   50\n",
      "2    6   30  -30\n",
      "3    7   40  -50\n"
     ]
    }
   ],
   "source": [
    "# Part1 if-then-else\n",
    "# 第一种做法\n",
    "df1 = pd.DataFrame(np.array([4,5,6,7,10,20,30,40,100,50,-30,-50]).reshape((3,4)).T,\\\n",
    "                   columns=['AAA','BBB','CCC'])\n",
    "print(df1)"
   ]
  },
  {
   "cell_type": "code",
   "execution_count": 3,
   "metadata": {},
   "outputs": [
    {
     "name": "stdout",
     "output_type": "stream",
     "text": [
      "   AAA  BBB  CCC\n",
      "0    4   10  100\n",
      "1    5  555  555\n",
      "2    6  555  555\n",
      "3    7  555  555\n"
     ]
    }
   ],
   "source": [
    "# 分开执行：先执行一部分：if-then\n",
    "df1.loc[df1['AAA'] >= 5,['BBB','CCC']] = 555\n",
    "print(df1)"
   ]
  },
  {
   "cell_type": "code",
   "execution_count": 4,
   "metadata": {},
   "outputs": [
    {
     "name": "stdout",
     "output_type": "stream",
     "text": [
      "   AAA   BBB   CCC\n",
      "0    4  2000  2000\n",
      "1    5   555   555\n",
      "2    6   555   555\n",
      "3    7   555   555\n"
     ]
    }
   ],
   "source": [
    "# 再执行一部分:else\n",
    "# 这样，'AAA'列，小于5时，另两列为2000，否则为555\n",
    "df1.loc[df1['AAA'] < 5,['BBB','CCC']] = 2000\n",
    "print(df1)"
   ]
  },
  {
   "cell_type": "code",
   "execution_count": 5,
   "metadata": {},
   "outputs": [
    {
     "name": "stdout",
     "output_type": "stream",
     "text": [
      "   AAA  BBB  CCC    tj\n",
      "0    4   10  100   low\n",
      "1    5   20   50   low\n",
      "2    6   30  -30  high\n",
      "3    7   40  -50  high\n"
     ]
    }
   ],
   "source": [
    "# 第二种：直接套用 numpy 的 where函数 实现 if-then-else:\n",
    "df2 = pd.DataFrame(\\\n",
    "    np.array([4,5,6,7,10,20,30,40,100,50,-30,-50]).reshape((3,4)).T,\\\n",
    "    columns=['AAA','BBB','CCC'])\n",
    "df2['tj'] = np.where(df2['AAA'] > 5,'high','low')\n",
    "print(df2)"
   ]
  },
  {
   "cell_type": "code",
   "execution_count": 6,
   "metadata": {},
   "outputs": [
    {
     "name": "stdout",
     "output_type": "stream",
     "text": [
      "   AAA  BBB  CCC\n",
      "0    4   10  100\n",
      "1    5   20   50\n",
      "2    6   30  -30\n",
      "3    7   40  -50\n"
     ]
    }
   ],
   "source": [
    "# Part2 切割\n",
    "# 用布尔条件切割 DataFrame\n",
    "df1 = pd.DataFrame(np.array([4,5,6,7,10,20,30,40,100,50,-30,-50]).reshape((3,4)).T,\\\n",
    "                   columns=['AAA','BBB','CCC'])\n",
    "print(df1)"
   ]
  },
  {
   "cell_type": "code",
   "execution_count": 7,
   "metadata": {},
   "outputs": [
    {
     "name": "stdout",
     "output_type": "stream",
     "text": [
      "0     True\n",
      "1     True\n",
      "2    False\n",
      "3    False\n",
      "Name: AAA, dtype: bool\n",
      "------------------------------\n",
      "   AAA  BBB  CCC\n",
      "0    4   10  100\n",
      "1    5   20   50\n"
     ]
    }
   ],
   "source": [
    "# 将df1表，按'AAA'列，以条件分割开来\n",
    "a = df1[df1['AAA'] <= 5]\n",
    "print(df1['AAA'] <= 5)\n",
    "print('-'*30)\n",
    "print(a)"
   ]
  },
  {
   "cell_type": "code",
   "execution_count": 8,
   "metadata": {},
   "outputs": [
    {
     "name": "stdout",
     "output_type": "stream",
     "text": [
      "0    False\n",
      "1    False\n",
      "2     True\n",
      "3     True\n",
      "Name: AAA, dtype: bool\n",
      "------------------------------\n",
      "   AAA  BBB  CCC\n",
      "2    6   30  -30\n",
      "3    7   40  -50\n"
     ]
    }
   ],
   "source": [
    "# df1 表剩下部分为\n",
    "b = df1[df1['AAA'] > 5]\n",
    "print(df1['AAA'] > 5)\n",
    "print('-'*30)\n",
    "print(b)"
   ]
  },
  {
   "cell_type": "code",
   "execution_count": 9,
   "metadata": {},
   "outputs": [
    {
     "name": "stdout",
     "output_type": "stream",
     "text": [
      "0    4\n",
      "1    5\n",
      "Name: AAA, dtype: int64\n"
     ]
    }
   ],
   "source": [
    "# Part3 设置条件\n",
    "# Part3-1 多列条件选择\n",
    "# 和(&) 条件：eg，'BBB'列小于25，且，'CCC'列大于等于 -40时，取'AAA'列\n",
    "c = df1.loc[(df1['BBB'] < 25) & (df1['CCC'] >= -40),'AAA']\n",
    "print(c)"
   ]
  },
  {
   "cell_type": "code",
   "execution_count": 10,
   "metadata": {},
   "outputs": [
    {
     "name": "stdout",
     "output_type": "stream",
     "text": [
      "0    4\n",
      "1    5\n",
      "2    6\n",
      "Name: AAA, dtype: int64\n"
     ]
    }
   ],
   "source": [
    "# 或(｜) 条件：eg，'BBB'列 小于25,或，'CCC'列大于等于 -40时，取'AAA'列\n",
    "d = df1.loc[(df1['BBB'] < 25) | (df1['CCC'] >= -40),'AAA']\n",
    "print(d)"
   ]
  },
  {
   "cell_type": "code",
   "execution_count": 11,
   "metadata": {},
   "outputs": [
    {
     "name": "stdout",
     "output_type": "stream",
     "text": [
      "   AAA  BBB  CCC\n",
      "0  0.1   10  100\n",
      "1  0.1   20   50\n",
      "2  0.1   30  -30\n",
      "3  7.0   40  -50\n"
     ]
    }
   ],
   "source": [
    "# 或(｜) 条件：eg，'BBB'列 小于25,或，'CCC'列大于等于 -40时，赋值'AAA'列为 0.1\n",
    "df1.loc[(df1['BBB'] < 25) | (df1['CCC'] >= -40),'AAA'] = 0.1\n",
    "print(df1)"
   ]
  },
  {
   "cell_type": "code",
   "execution_count": 12,
   "metadata": {},
   "outputs": [
    {
     "name": "stdout",
     "output_type": "stream",
     "text": [
      "   AAA  BBB  CCC\n",
      "0    4   10  100\n",
      "1    5   20   50\n",
      "2    6   30  -30\n",
      "3    7   40  -50\n"
     ]
    }
   ],
   "source": [
    "# Part3-2 用 argsort 选择最接近指定值的行\n",
    "df1 = pd.DataFrame({'AAA':[4,5,6,7],'BBB':[10,20,30,40],'CCC':[100,50,-30,-50]})\n",
    "print(df1)"
   ]
  },
  {
   "cell_type": "code",
   "execution_count": 13,
   "metadata": {},
   "outputs": [
    {
     "name": "stdout",
     "output_type": "stream",
     "text": [
      "   AAA  BBB  CCC\n",
      "1    5   20   50\n",
      "0    4   10  100\n",
      "2    6   30  -30\n",
      "3    7   40  -50\n"
     ]
    }
   ],
   "source": [
    "aval = 43\n",
    "e = df1.loc[(df1['CCC']-aval).abs().argsort()]\n",
    "print(e)"
   ]
  },
  {
   "cell_type": "code",
   "execution_count": 14,
   "metadata": {},
   "outputs": [
    {
     "name": "stdout",
     "output_type": "stream",
     "text": [
      "   AAA  BBB  CCC\n",
      "0    4   10  100\n",
      "1    5   20   50\n",
      "2    6   30  -30\n",
      "3    7   40  -50\n"
     ]
    }
   ],
   "source": [
    "# Part3-3 用 二进制运算符 动态减少 条件列表\n",
    "df1 = pd.DataFrame({'AAA':[4,5,6,7],'BBB':[10,20,30,40],'CCC':[100,50,-30,-50]})\n",
    "print(df1)"
   ]
  },
  {
   "cell_type": "code",
   "execution_count": 16,
   "metadata": {},
   "outputs": [
    {
     "name": "stdout",
     "output_type": "stream",
     "text": [
      "   AAA  BBB  CCC\n",
      "0    4   10  100\n"
     ]
    }
   ],
   "source": [
    "crit1 = df1['AAA'] <= 5.5\n",
    "crit2 = df1['BBB'] == 10\n",
    "crit3 = df1['CCC'] > -40\n",
    "# 硬编码方式为\n",
    "allcrit = crit1 & crit2 & crit3\n",
    "print(df1[allcrit])"
   ]
  },
  {
   "cell_type": "code",
   "execution_count": 17,
   "metadata": {},
   "outputs": [
    {
     "name": "stdout",
     "output_type": "stream",
     "text": [
      "   AAA  BBB  CCC\n",
      "0    4   10  100\n"
     ]
    }
   ],
   "source": [
    "# 动态条件列表为：\n",
    "import functools\n",
    "critlist = [crit1,crit2,crit3]\n",
    "allcrit2 = functools.reduce(lambda x,y:x&y,critlist)\n",
    "print(df1[allcrit2])"
   ]
  },
  {
   "cell_type": "code",
   "execution_count": null,
   "metadata": {},
   "outputs": [],
   "source": []
  }
 ],
 "metadata": {
  "kernelspec": {
   "display_name": "Python 3",
   "language": "python",
   "name": "python3"
  },
  "language_info": {
   "codemirror_mode": {
    "name": "ipython",
    "version": 3
   },
   "file_extension": ".py",
   "mimetype": "text/x-python",
   "name": "python",
   "nbconvert_exporter": "python",
   "pygments_lexer": "ipython3",
   "version": "3.7.6"
  }
 },
 "nbformat": 4,
 "nbformat_minor": 4
}
