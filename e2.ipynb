{
 "cells": [
  {
   "cell_type": "code",
   "execution_count": 1,
   "metadata": {},
   "outputs": [],
   "source": [
    "import pandas as pd\n",
    "import numpy as np"
   ]
  },
  {
   "cell_type": "code",
   "execution_count": 2,
   "metadata": {},
   "outputs": [
    {
     "name": "stdout",
     "output_type": "stream",
     "text": [
      "   AAA  BBB  CCC\n",
      "0    4   10  100\n",
      "1    5   20   50\n",
      "2    6   30  -30\n",
      "3    7   40  -50\n"
     ]
    }
   ],
   "source": [
    "# Part1 行标签与值作为条件\n",
    "df1 = pd.DataFrame(np.array([4,5,6,7,10,20,30,40,100,50,-30,-50]).reshape((3,4)).T,\\\n",
    "                   columns=['AAA','BBB','CCC'])\n",
    "print(df1)"
   ]
  },
  {
   "cell_type": "code",
   "execution_count": 3,
   "metadata": {},
   "outputs": [
    {
     "name": "stdout",
     "output_type": "stream",
     "text": [
      "   AAA  BBB  CCC\n",
      "0    4   10  100\n",
      "2    6   30  -30\n"
     ]
    }
   ],
   "source": [
    "a = df1[(df1['AAA'] <= 6) & (df1.index.isin([0,2,4]))]\n",
    "print(a)"
   ]
  },
  {
   "cell_type": "code",
   "execution_count": 4,
   "metadata": {},
   "outputs": [
    {
     "name": "stdout",
     "output_type": "stream",
     "text": [
      "     AAA  BBB  CCC\n",
      "foo    4   10  100\n",
      "bar    5   20   50\n",
      "boo    6   30  -30\n",
      "kar    7   40  -50\n"
     ]
    }
   ],
   "source": [
    "# Part2 标签切片用loc,位置切片用 iloc\n",
    "df1 = pd.DataFrame(np.array([4,5,6,7,10,20,30,40,100,50,-30,-50]).reshape((3,4)).T,\\\n",
    "                   columns=['AAA','BBB','CCC'],index=['foo','bar','boo','kar'])\n",
    "print(df1)"
   ]
  },
  {
   "cell_type": "code",
   "execution_count": 5,
   "metadata": {},
   "outputs": [
    {
     "name": "stdout",
     "output_type": "stream",
     "text": [
      "     AAA  BBB  CCC\n",
      "bar    5   20   50\n",
      "boo    6   30  -30\n",
      "kar    7   40  -50\n"
     ]
    }
   ],
   "source": [
    "# Part2-1 标签切片，非 Python 切片风格，包括结尾数据\n",
    "print(df1.loc['bar':'kar'])"
   ]
  },
  {
   "cell_type": "code",
   "execution_count": 6,
   "metadata": {},
   "outputs": [
    {
     "name": "stdout",
     "output_type": "stream",
     "text": [
      "     AAA  BBB  CCC\n",
      "foo    4   10  100\n",
      "bar    5   20   50\n",
      "boo    6   30  -30\n"
     ]
    }
   ],
   "source": [
    "# Part2-2 位置切片，Python 切片风格，不包括结尾数据\n",
    "print(df1.iloc[0:3])"
   ]
  },
  {
   "cell_type": "code",
   "execution_count": 7,
   "metadata": {},
   "outputs": [
    {
     "name": "stdout",
     "output_type": "stream",
     "text": [
      "   AAA  BBB  CCC\n",
      "1    4   10  100\n",
      "2    5   20   50\n",
      "3    6   30  -30\n",
      "4    7   40  -50\n"
     ]
    }
   ],
   "source": [
    "# Part2-3 包含整数，且不从 0 开始的索引，或不是逐步递增的索引会引发歧义\n",
    "df2 = df1.copy()\n",
    "df2.index = range(1,5)\n",
    "print(df2)"
   ]
  },
  {
   "cell_type": "code",
   "execution_count": 8,
   "metadata": {},
   "outputs": [
    {
     "name": "stdout",
     "output_type": "stream",
     "text": [
      "   AAA  BBB  CCC\n",
      "2    5   20   50\n",
      "3    6   30  -30\n"
     ]
    }
   ],
   "source": [
    "# 注意无论 index 名字怎么变，iloc仍是按位置索引\n",
    "a = df2.iloc[1:3]\n",
    "print(a)"
   ]
  },
  {
   "cell_type": "code",
   "execution_count": 9,
   "metadata": {},
   "outputs": [
    {
     "name": "stdout",
     "output_type": "stream",
     "text": [
      "   AAA  BBB  CCC\n",
      "1    4   10  100\n",
      "2    5   20   50\n",
      "3    6   30  -30\n"
     ]
    }
   ],
   "source": [
    "# loc 则是按照标签名字来索引，需注意 索引名字\n",
    "b = df2.loc[1:3]\n",
    "print(b)"
   ]
  },
  {
   "cell_type": "code",
   "execution_count": 10,
   "metadata": {},
   "outputs": [
    {
     "name": "stdout",
     "output_type": "stream",
     "text": [
      "     AAA  BBB  CCC\n",
      "bar    5   20   50\n",
      "kar    7   40  -50\n"
     ]
    }
   ],
   "source": [
    "# Part2-4 用逆运算符 (~)提取掩码的反向内容\n",
    "a = df1[~((df1['AAA'] <= 6) & (df1.index.isin(['foo','boo','kar'])))]\n",
    "print(a)"
   ]
  },
  {
   "cell_type": "code",
   "execution_count": 11,
   "metadata": {},
   "outputs": [
    {
     "name": "stdout",
     "output_type": "stream",
     "text": [
      "   AAA  BBB  CCC\n",
      "0    1    1    2\n",
      "1    2    1    1\n",
      "2    1    2    3\n",
      "3    3    2    1\n"
     ]
    }
   ],
   "source": [
    "# Part3 生成新列\n",
    "# Part3-1 用 applymap 高效动态生成新列\n",
    "df3 = pd.DataFrame({'AAA':[1,2,1,3],\\\n",
    "                    'BBB':[1,1,2,2],\\\n",
    "                    'CCC':[2,1,3,1]})\n",
    "print(df3)"
   ]
  },
  {
   "cell_type": "code",
   "execution_count": 12,
   "metadata": {},
   "outputs": [
    {
     "name": "stdout",
     "output_type": "stream",
     "text": [
      "   AAA  BBB  CCC  AAA_cat BBB_cat  CCC_cat\n",
      "0    1    1    2    Alpha   Alpha     Beta\n",
      "1    2    1    1     Beta   Alpha    Alpha\n",
      "2    1    2    3    Alpha    Beta  Charlie\n",
      "3    3    2    1  Charlie    Beta    Alpha\n"
     ]
    }
   ],
   "source": [
    "source_cols = df3.columns\n",
    "new_cols = [str(x) + '_cat' for x in source_cols]\n",
    "categories = {1:'Alpha',2:'Beta',3:'Charlie'}\n",
    "df3[new_cols] = df3[source_cols].applymap(categories.get)\n",
    "print(df3)"
   ]
  },
  {
   "cell_type": "code",
   "execution_count": 13,
   "metadata": {},
   "outputs": [
    {
     "name": "stdout",
     "output_type": "stream",
     "text": [
      "   AAA  BBB\n",
      "0    1    2\n",
      "1    1    1\n",
      "2    1    3\n",
      "3    2    4\n",
      "4    2    5\n",
      "5    2    1\n",
      "6    3    2\n",
      "7    3    3\n"
     ]
    }
   ],
   "source": [
    "# Part3-2 分组时用 min()\n",
    "df4 = pd.DataFrame({'AAA':[1,1,1,2,2,2,3,3],\\\n",
    "                    'BBB':[2,1,3,4,5,1,2,3]})\n",
    "print(df4)"
   ]
  },
  {
   "cell_type": "code",
   "execution_count": 14,
   "metadata": {},
   "outputs": [
    {
     "name": "stdout",
     "output_type": "stream",
     "text": [
      "   AAA  BBB\n",
      "1    1    1\n",
      "5    2    1\n",
      "6    3    2\n"
     ]
    }
   ],
   "source": [
    "# 方法一 用 idxmin() 提取每组最小值的索引\n",
    "a = df4.loc[df4.groupby('AAA')['BBB'].idxmin()]\n",
    "print(a)"
   ]
  },
  {
   "cell_type": "code",
   "execution_count": 15,
   "metadata": {},
   "outputs": [
    {
     "name": "stdout",
     "output_type": "stream",
     "text": [
      "   AAA  BBB\n",
      "0    1    1\n",
      "1    2    1\n",
      "2    3    2\n"
     ]
    }
   ],
   "source": [
    "# 方法二 先排序，再提取每组的第一个值\n",
    "a = df4.sort_values(by='BBB').groupby('AAA',as_index=False).first()\n",
    "print(a)"
   ]
  },
  {
   "cell_type": "code",
   "execution_count": null,
   "metadata": {},
   "outputs": [],
   "source": []
  }
 ],
 "metadata": {
  "kernelspec": {
   "display_name": "Python 3",
   "language": "python",
   "name": "python3"
  },
  "language_info": {
   "codemirror_mode": {
    "name": "ipython",
    "version": 3
   },
   "file_extension": ".py",
   "mimetype": "text/x-python",
   "name": "python",
   "nbconvert_exporter": "python",
   "pygments_lexer": "ipython3",
   "version": "3.7.6"
  }
 },
 "nbformat": 4,
 "nbformat_minor": 4
}
