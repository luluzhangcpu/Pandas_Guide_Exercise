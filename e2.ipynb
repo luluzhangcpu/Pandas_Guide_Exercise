{
 "cells": [
  {
   "cell_type": "code",
   "execution_count": 1,
   "metadata": {},
   "outputs": [],
   "source": [
    "import pandas as pd\n",
    "import numpy as np"
   ]
  },
  {
   "cell_type": "code",
   "execution_count": 2,
   "metadata": {},
   "outputs": [
    {
     "name": "stdout",
     "output_type": "stream",
     "text": [
      "   AAA  BBB  CCC\n",
      "0    4   10  100\n",
      "1    5   20   50\n",
      "2    6   30  -30\n",
      "3    7   40  -50\n"
     ]
    }
   ],
   "source": [
    "# Part1 行标签与值作为条件\n",
    "df1 = pd.DataFrame(np.array([4,5,6,7,10,20,30,40,100,50,-30,-50]).reshape((3,4)).T,\\\n",
    "                   columns=['AAA','BBB','CCC'])\n",
    "print(df1)"
   ]
  },
  {
   "cell_type": "code",
   "execution_count": 3,
   "metadata": {},
   "outputs": [
    {
     "name": "stdout",
     "output_type": "stream",
     "text": [
      "   AAA  BBB  CCC\n",
      "0    4   10  100\n",
      "2    6   30  -30\n"
     ]
    }
   ],
   "source": [
    "a = df1[(df1['AAA'] <= 6) & (df1.index.isin([0,2,4]))]\n",
    "print(a)"
   ]
  },
  {
   "cell_type": "code",
   "execution_count": 4,
   "metadata": {},
   "outputs": [
    {
     "name": "stdout",
     "output_type": "stream",
     "text": [
      "     AAA  BBB  CCC\n",
      "foo    4   10  100\n",
      "bar    5   20   50\n",
      "boo    6   30  -30\n",
      "kar    7   40  -50\n"
     ]
    }
   ],
   "source": [
    "# Part2 标签切片用loc,位置切片用 iloc\n",
    "df1 = pd.DataFrame(np.array([4,5,6,7,10,20,30,40,100,50,-30,-50]).reshape((3,4)).T,\\\n",
    "                   columns=['AAA','BBB','CCC'],index=['foo','bar','boo','kar'])\n",
    "print(df1)"
   ]
  },
  {
   "cell_type": "code",
   "execution_count": 5,
   "metadata": {},
   "outputs": [
    {
     "name": "stdout",
     "output_type": "stream",
     "text": [
      "     AAA  BBB  CCC\n",
      "bar    5   20   50\n",
      "boo    6   30  -30\n",
      "kar    7   40  -50\n"
     ]
    }
   ],
   "source": [
    "# Part2-1 标签切片，非 Python 切片风格，包括结尾数据\n",
    "print(df1.loc['bar':'kar'])"
   ]
  },
  {
   "cell_type": "code",
   "execution_count": 6,
   "metadata": {},
   "outputs": [
    {
     "name": "stdout",
     "output_type": "stream",
     "text": [
      "     AAA  BBB  CCC\n",
      "foo    4   10  100\n",
      "bar    5   20   50\n",
      "boo    6   30  -30\n"
     ]
    }
   ],
   "source": [
    "# Part2-2 位置切片，Python 切片风格，不包括结尾数据\n",
    "print(df1.iloc[0:3])"
   ]
  },
  {
   "cell_type": "code",
   "execution_count": 7,
   "metadata": {},
   "outputs": [
    {
     "name": "stdout",
     "output_type": "stream",
     "text": [
      "   AAA  BBB  CCC\n",
      "1    4   10  100\n",
      "2    5   20   50\n",
      "3    6   30  -30\n",
      "4    7   40  -50\n"
     ]
    }
   ],
   "source": [
    "# Part2-3 包含整数，且不从 0 开始的索引，或不是逐步递增的索引会引发歧义\n",
    "df2 = df1.copy()\n",
    "df2.index = range(1,5)\n",
    "print(df2)"
   ]
  },
  {
   "cell_type": "code",
   "execution_count": 8,
   "metadata": {},
   "outputs": [
    {
     "name": "stdout",
     "output_type": "stream",
     "text": [
      "   AAA  BBB  CCC\n",
      "2    5   20   50\n",
      "3    6   30  -30\n"
     ]
    }
   ],
   "source": [
    "# 注意无论 index 名字怎么变，iloc仍是按位置索引\n",
    "a = df2.iloc[1:3]\n",
    "print(a)"
   ]
  },
  {
   "cell_type": "code",
   "execution_count": 9,
   "metadata": {},
   "outputs": [
    {
     "name": "stdout",
     "output_type": "stream",
     "text": [
      "   AAA  BBB  CCC\n",
      "1    4   10  100\n",
      "2    5   20   50\n",
      "3    6   30  -30\n"
     ]
    }
   ],
   "source": [
    "# loc 则是按照标签名字来索引，需注意 索引名字\n",
    "b = df2.loc[1:3]\n",
    "print(b)"
   ]
  },
  {
   "cell_type": "code",
   "execution_count": 10,
   "metadata": {},
   "outputs": [
    {
     "name": "stdout",
     "output_type": "stream",
     "text": [
      "     AAA  BBB  CCC\n",
      "bar    5   20   50\n",
      "kar    7   40  -50\n"
     ]
    }
   ],
   "source": [
    "# Part2-4 用逆运算符 (~)提取掩码的反向内容\n",
    "a = df1[~((df1['AAA'] <= 6) & (df1.index.isin(['foo','boo','kar'])))]\n",
    "print(a)"
   ]
  },
  {
   "cell_type": "code",
   "execution_count": null,
   "metadata": {},
   "outputs": [],
   "source": []
  }
 ],
 "metadata": {
  "kernelspec": {
   "display_name": "Python 3",
   "language": "python",
   "name": "python3"
  },
  "language_info": {
   "codemirror_mode": {
    "name": "ipython",
    "version": 3
   },
   "file_extension": ".py",
   "mimetype": "text/x-python",
   "name": "python",
   "nbconvert_exporter": "python",
   "pygments_lexer": "ipython3",
   "version": "3.7.6"
  }
 },
 "nbformat": 4,
 "nbformat_minor": 4
}
