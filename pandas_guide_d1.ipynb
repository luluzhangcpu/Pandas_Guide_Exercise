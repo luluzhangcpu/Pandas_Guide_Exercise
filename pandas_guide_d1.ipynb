{
 "cells": [
  {
   "cell_type": "code",
   "execution_count": 1,
   "metadata": {},
   "outputs": [],
   "source": [
    "import pandas as pd\n",
    "import numpy as np"
   ]
  },
  {
   "cell_type": "code",
   "execution_count": 2,
   "metadata": {},
   "outputs": [
    {
     "name": "stdout",
     "output_type": "stream",
     "text": [
      "   AAA  BBB  CCC\n",
      "0    4   10  100\n",
      "1    5   20   50\n",
      "2    6   30  -30\n",
      "3    7   40  -50\n"
     ]
    }
   ],
   "source": [
    "# 在 pandas 中实现，if-then-else 语句，两种做法：\n",
    "df1 = pd.DataFrame(np.array([4,5,6,7,10,20,30,40,100,50,-30,-50]).reshape((3,4)).T,\\\n",
    "                   columns=['AAA','BBB','CCC'])\n",
    "print(df1)"
   ]
  },
  {
   "cell_type": "code",
   "execution_count": 3,
   "metadata": {},
   "outputs": [
    {
     "name": "stdout",
     "output_type": "stream",
     "text": [
      "   AAA  BBB  CCC\n",
      "0    4   10  100\n",
      "1    5  555  555\n",
      "2    6  555  555\n",
      "3    7  555  555\n"
     ]
    }
   ],
   "source": [
    "# 第一种：先 执行 if-then 语句\n",
    "df1.loc[df1['AAA'] >= 5,['BBB','CCC']] = 555\n",
    "print(df1)"
   ]
  },
  {
   "cell_type": "code",
   "execution_count": 4,
   "metadata": {},
   "outputs": [
    {
     "name": "stdout",
     "output_type": "stream",
     "text": [
      "   AAA   BBB   CCC\n",
      "0    4  2000  2000\n",
      "1    5   555   555\n",
      "2    6   555   555\n",
      "3    7   555   555\n"
     ]
    }
   ],
   "source": [
    "# 再 执行 -else 操作：\n",
    "# 这样，'AAA'列，小于5时，另两列为2000，否则为555\n",
    "df1.loc[df1['AAA'] < 5,['BBB','CCC']] = 2000\n",
    "print(df1)"
   ]
  },
  {
   "cell_type": "code",
   "execution_count": 5,
   "metadata": {},
   "outputs": [
    {
     "name": "stdout",
     "output_type": "stream",
     "text": [
      "   AAA  BBB  CCC    tj\n",
      "0    4   10  100   low\n",
      "1    5   20   50   low\n",
      "2    6   30  -30  high\n",
      "3    7   40  -50  high\n"
     ]
    }
   ],
   "source": [
    "# 第二种：直接套用 numpy 的 where函数 实现 if-then-else:\n",
    "df2 = pd.DataFrame(\\\n",
    "    np.array([4,5,6,7,10,20,30,40,100,50,-30,-50]).reshape((3,4)).T,\\\n",
    "    columns=['AAA','BBB','CCC'])\n",
    "df2['tj'] = np.where(df2['AAA'] > 5,'high','low')\n",
    "print(df2)"
   ]
  },
  {
   "cell_type": "code",
   "execution_count": null,
   "metadata": {},
   "outputs": [],
   "source": []
  }
 ],
 "metadata": {
  "kernelspec": {
   "display_name": "Python 3",
   "language": "python",
   "name": "python3"
  },
  "language_info": {
   "codemirror_mode": {
    "name": "ipython",
    "version": 3
   },
   "file_extension": ".py",
   "mimetype": "text/x-python",
   "name": "python",
   "nbconvert_exporter": "python",
   "pygments_lexer": "ipython3",
   "version": "3.7.6"
  }
 },
 "nbformat": 4,
 "nbformat_minor": 4
}
