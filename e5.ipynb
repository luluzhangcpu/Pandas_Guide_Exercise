{
 "cells": [
  {
   "cell_type": "code",
   "execution_count": 1,
   "metadata": {},
   "outputs": [],
   "source": [
    "# e5 分组\n",
    "import pandas as pd\n",
    "import numpy as np"
   ]
  },
  {
   "cell_type": "code",
   "execution_count": 2,
   "metadata": {},
   "outputs": [
    {
     "name": "stdout",
     "output_type": "stream",
     "text": [
      "  animal size  weight  adult\n",
      "0    cat    S       8  False\n",
      "1    dog    S      10  False\n",
      "2    cat    M      11  False\n",
      "3   fish    M       1  False\n",
      "4    dog    M      20  False\n",
      "5    cat    L      12   True\n",
      "6    cat    L      12   True\n"
     ]
    }
   ],
   "source": [
    "# Part1 用apply 执行分组基础操作\n",
    "# 与聚合不同，传递给 DataFrame子集的 apply 可回调，可访问所有列\n",
    "df1 = pd.DataFrame({'animal':'cat dog cat fish dog cat cat'.split(),\\\n",
    "                    'size':list('SSMMMLL'),\\\n",
    "                    'weight':[8,10,11,1,20,12,12],\\\n",
    "                    'adult':[False] * 5 + [True] * 2})\n",
    "print(df1)"
   ]
  },
  {
   "cell_type": "code",
   "execution_count": 3,
   "metadata": {},
   "outputs": [
    {
     "name": "stdout",
     "output_type": "stream",
     "text": [
      "animal\n",
      "cat     L\n",
      "dog     M\n",
      "fish    M\n",
      "dtype: object\n"
     ]
    }
   ],
   "source": [
    "a = df1.groupby('animal').apply(lambda x:x['size'][x['weight'].idxmax()])\n",
    "print(a)"
   ]
  },
  {
   "cell_type": "code",
   "execution_count": 4,
   "metadata": {},
   "outputs": [
    {
     "name": "stdout",
     "output_type": "stream",
     "text": [
      "  animal size  weight  adult\n",
      "0    cat    S       8  False\n",
      "2    cat    M      11  False\n",
      "5    cat    L      12   True\n",
      "6    cat    L      12   True\n"
     ]
    }
   ],
   "source": [
    "# Part2 使用 get_group\n",
    "b = df1.groupby(['animal'])\n",
    "c = b.get_group('cat')\n",
    "print(c)"
   ]
  },
  {
   "cell_type": "code",
   "execution_count": 5,
   "metadata": {},
   "outputs": [
    {
     "name": "stdout",
     "output_type": "stream",
     "text": [
      "       size   weight  adult\n",
      "animal                     \n",
      "cat       L  12.4375   True\n",
      "dog       L  20.0000   True\n",
      "fish      L   1.2500   True\n"
     ]
    }
   ],
   "source": [
    "# Part3 为同一分组的不同内容使用 Apply 函数\n",
    "def GrowUp(x):\n",
    "    avg_weight = sum(x[x['size'] == 'S']['weight'] * 1.5)\n",
    "    avg_weight += sum(x[x['size'] == 'M']['weight'] * 1.25)\n",
    "    avg_weight += sum(x[x['size'] == 'L']['weight'])\n",
    "    avg_weight /= len(x)\n",
    "    return pd.Series(['L',avg_weight,True],index=['size','weight','adult'])\n",
    "a = b.apply(GrowUp)\n",
    "print(a)"
   ]
  },
  {
   "cell_type": "code",
   "execution_count": 6,
   "metadata": {},
   "outputs": [
    {
     "name": "stdout",
     "output_type": "stream",
     "text": [
      "0    0.01\n",
      "1    0.02\n",
      "2    0.03\n",
      "3    0.04\n",
      "4    0.05\n",
      "5    0.06\n",
      "6    0.07\n",
      "7    0.08\n",
      "8    0.09\n",
      "9    0.10\n",
      "dtype: float64\n"
     ]
    }
   ],
   "source": [
    "# Part4 Apply函数扩展\n",
    "import functools\n",
    "s = pd.Series([i / 100 for i in range(1,11)])\n",
    "print(s)"
   ]
  },
  {
   "cell_type": "code",
   "execution_count": 7,
   "metadata": {},
   "outputs": [
    {
     "name": "stdout",
     "output_type": "stream",
     "text": [
      "0    1.010000\n",
      "1    1.030200\n",
      "2    1.061106\n",
      "3    1.103550\n",
      "4    1.158728\n",
      "5    1.228251\n",
      "6    1.314229\n",
      "7    1.419367\n",
      "8    1.547110\n",
      "9    1.701821\n",
      "dtype: float64\n"
     ]
    }
   ],
   "source": [
    "def cum_ret(x,y):\n",
    "    return x * (1+y)\n",
    "def red(x):\n",
    "    return functools.reduce(cum_ret,x,1)\n",
    "s = s.expanding().apply(red,raw=True)\n",
    "print(s)"
   ]
  },
  {
   "cell_type": "code",
   "execution_count": 8,
   "metadata": {},
   "outputs": [
    {
     "name": "stdout",
     "output_type": "stream",
     "text": [
      "   A  B\n",
      "0  1  1\n",
      "1  1 -1\n",
      "2  2  1\n",
      "3  2  2\n"
     ]
    }
   ],
   "source": [
    "# Part5 用分组里的剩余值中的平均值 进行替换\n",
    "df2 = pd.DataFrame({'A':[1,1,2,2],'B':[1,-1,1,2]})\n",
    "print(df2)"
   ]
  },
  {
   "cell_type": "code",
   "execution_count": 9,
   "metadata": {},
   "outputs": [
    {
     "name": "stdout",
     "output_type": "stream",
     "text": [
      "     B\n",
      "0  1.0\n",
      "1 -1.0\n",
      "2  1.5\n",
      "3  1.5\n"
     ]
    }
   ],
   "source": [
    "a = df2.groupby('A')\n",
    "def replace(x):\n",
    "    mask = x < 0\n",
    "    return x.where(mask,x[~mask].mean())\n",
    "b = a.transform(replace)\n",
    "print(b)"
   ]
  },
  {
   "cell_type": "code",
   "execution_count": 10,
   "metadata": {},
   "outputs": [
    {
     "name": "stdout",
     "output_type": "stream",
     "text": [
      "  code  data   flag\n",
      "0  foo  0.16  False\n",
      "1  bar -0.21   True\n",
      "2  baz  0.33  False\n",
      "3  foo  0.45   True\n",
      "4  bar -0.59  False\n",
      "5  baz  0.62   True\n"
     ]
    }
   ],
   "source": [
    "# Part6 按聚合数据排序\n",
    "df3 = pd.DataFrame({'code':['foo','bar','baz']*2,\\\n",
    "                    'data':[0.16,-0.21,0.33,0.45,-0.59,0.62],\\\n",
    "                    'flag':[False,True]*3})\n",
    "print(df3)"
   ]
  },
  {
   "cell_type": "code",
   "execution_count": 11,
   "metadata": {},
   "outputs": [
    {
     "name": "stdout",
     "output_type": "stream",
     "text": [
      "  code  data   flag\n",
      "1  bar -0.21   True\n",
      "4  bar -0.59  False\n",
      "0  foo  0.16  False\n",
      "3  foo  0.45   True\n",
      "2  baz  0.33  False\n",
      "5  baz  0.62   True\n"
     ]
    }
   ],
   "source": [
    "a = df3.groupby('code')\n",
    "b = a[['data']].transform(sum).sort_values(by='data')\n",
    "c = df3.loc[b.index]\n",
    "print(c)"
   ]
  },
  {
   "cell_type": "code",
   "execution_count": 12,
   "metadata": {},
   "outputs": [
    {
     "name": "stdout",
     "output_type": "stream",
     "text": [
      "DatetimeIndex(['2014-10-07 00:00:00', '2014-10-07 00:02:00',\n",
      "               '2014-10-07 00:04:00', '2014-10-07 00:06:00',\n",
      "               '2014-10-07 00:08:00', '2014-10-07 00:10:00',\n",
      "               '2014-10-07 00:12:00', '2014-10-07 00:14:00',\n",
      "               '2014-10-07 00:16:00', '2014-10-07 00:18:00'],\n",
      "              dtype='datetime64[ns]', freq='2T')\n"
     ]
    }
   ],
   "source": [
    "# Part7 创建多个聚合列\n",
    "df4 = pd.date_range('2014-10-07',periods=10,freq='2min')\n",
    "print(df4)"
   ]
  },
  {
   "cell_type": "code",
   "execution_count": 13,
   "metadata": {},
   "outputs": [
    {
     "name": "stdout",
     "output_type": "stream",
     "text": [
      "2014-10-07 00:00:00    0\n",
      "2014-10-07 00:02:00    1\n",
      "2014-10-07 00:04:00    2\n",
      "2014-10-07 00:06:00    3\n",
      "2014-10-07 00:08:00    4\n",
      "2014-10-07 00:10:00    5\n",
      "2014-10-07 00:12:00    6\n",
      "2014-10-07 00:14:00    7\n",
      "2014-10-07 00:16:00    8\n",
      "2014-10-07 00:18:00    9\n",
      "Freq: 2T, dtype: int64\n"
     ]
    }
   ],
   "source": [
    "df5 = pd.Series(data=range(10),index=df4)\n",
    "print(df5)"
   ]
  },
  {
   "cell_type": "code",
   "execution_count": 14,
   "metadata": {},
   "outputs": [
    {
     "name": "stdout",
     "output_type": "stream",
     "text": [
      "Mean    2014-10-07 00:00:00        1\n",
      "        2014-10-07 00:05:00      3.5\n",
      "        2014-10-07 00:10:00        6\n",
      "        2014-10-07 00:15:00      8.5\n",
      "Max     2014-10-07 00:00:00        2\n",
      "        2014-10-07 00:05:00        4\n",
      "        2014-10-07 00:10:00        7\n",
      "        2014-10-07 00:15:00        9\n",
      "Custom  2014-10-07 00:00:00    1.234\n",
      "        2014-10-07 00:05:00      NaT\n",
      "        2014-10-07 00:10:00    7.404\n",
      "        2014-10-07 00:15:00      NaT\n",
      "dtype: object\n"
     ]
    }
   ],
   "source": [
    "def MyCust(x):\n",
    "    if len(x) > 2:\n",
    "        return x[1] * 1.234\n",
    "    return pd.NaT\n",
    "dict1 = {'Mean':np.mean,'Max':np.max,'Custom':MyCust}\n",
    "d = df5.resample('5min').apply(dict1)\n",
    "print(d)"
   ]
  },
  {
   "cell_type": "code",
   "execution_count": 15,
   "metadata": {},
   "outputs": [
    {
     "name": "stdout",
     "output_type": "stream",
     "text": [
      "  Color  Value\n",
      "0   Red    100\n",
      "1   Red    150\n",
      "2   Red     50\n",
      "3  Blue     50\n"
     ]
    }
   ],
   "source": [
    "# Part8 为DataFrame 创建值计数列\n",
    "df6 = pd.DataFrame({'Color':'Red Red Red Blue'.split(),\\\n",
    "                    'Value':[100,150,50,50]})\n",
    "print(df6)"
   ]
  },
  {
   "cell_type": "code",
   "execution_count": 16,
   "metadata": {},
   "outputs": [
    {
     "name": "stdout",
     "output_type": "stream",
     "text": [
      "  Color  Value  js\n",
      "0   Red    100   3\n",
      "1   Red    150   3\n",
      "2   Red     50   3\n",
      "3  Blue     50   1\n"
     ]
    }
   ],
   "source": [
    "df6['js']= df6.groupby('Color').transform(len)\n",
    "print(df6)"
   ]
  },
  {
   "cell_type": "code",
   "execution_count": 17,
   "metadata": {},
   "outputs": [
    {
     "name": "stdout",
     "output_type": "stream",
     "text": [
      "                 line_race  beyer\n",
      "Last Gunfighter         10     99\n",
      "Last Gunfighter         10    102\n",
      "Last Gunfighter          8    103\n",
      "Paynter                 10    103\n",
      "Paynter                 10     88\n",
      "Paynter                  8    100\n"
     ]
    }
   ],
   "source": [
    "# Part9 基于索引唯一某列不同分组的值\n",
    "df7 = pd.DataFrame({'line_race':[10,10,8,10,10,8],\\\n",
    "                    'beyer':[99,102,103,103,88,100]},\\\n",
    "                   index=['Last Gunfighter','Last Gunfighter','Last Gunfighter',\\\n",
    "                          'Paynter','Paynter','Paynter'])\n",
    "print(df7)"
   ]
  },
  {
   "cell_type": "code",
   "execution_count": 18,
   "metadata": {},
   "outputs": [
    {
     "name": "stdout",
     "output_type": "stream",
     "text": [
      "                 line_race  beyer  beyer_shifted\n",
      "Last Gunfighter         10     99            NaN\n",
      "Last Gunfighter         10    102           99.0\n",
      "Last Gunfighter          8    103          102.0\n",
      "Paynter                 10    103            NaN\n",
      "Paynter                 10     88          103.0\n",
      "Paynter                  8    100           88.0\n"
     ]
    }
   ],
   "source": [
    "df7['beyer_shifted'] = df7.groupby(level=0)['beyer'].shift(1)\n",
    "print(df7)"
   ]
  },
  {
   "cell_type": "code",
   "execution_count": 19,
   "metadata": {},
   "outputs": [
    {
     "name": "stdout",
     "output_type": "stream",
     "text": [
      "               no\n",
      "host  service    \n",
      "other mail      1\n",
      "      web       2\n",
      "that  mail      1\n",
      "this  mail      2\n",
      "      web       1\n"
     ]
    }
   ],
   "source": [
    "# Part9 选择每组最大值的行\n",
    "df8 = pd.DataFrame({'host':['other'] * 2 + ['that'] + ['this'] * 2,\\\n",
    "                    'service':['mail']*1 + ['web'] + ['mail']*2 + ['web'],\\\n",
    "                    'no':[1,2,1,2,1]}).set_index(['host','service'])\n",
    "print(df8)"
   ]
  },
  {
   "cell_type": "code",
   "execution_count": 20,
   "metadata": {},
   "outputs": [
    {
     "name": "stdout",
     "output_type": "stream",
     "text": [
      "    host service  no\n",
      "0  other     web   2\n",
      "1   that    mail   1\n",
      "2   this    mail   2\n"
     ]
    }
   ],
   "source": [
    "mask = df8.groupby(level=0).agg('idxmax')\n",
    "a = df8.loc[mask['no']].reset_index()\n",
    "print(a)"
   ]
  },
  {
   "cell_type": "code",
   "execution_count": 21,
   "metadata": {},
   "outputs": [
    {
     "name": "stdout",
     "output_type": "stream",
     "text": [
      "  Case      Data\n",
      "0    A -0.590078\n",
      "1    A  0.171041\n",
      "2    A  1.456223\n",
      "3    B -0.983939\n",
      "4    A  0.346844\n",
      "5    A  0.510868\n",
      "6    B  0.473166\n",
      "7    A -0.553820\n",
      "8    A -1.141759\n"
     ]
    }
   ],
   "source": [
    "# Part10 分割数据\n",
    "# 分割 DataFrame\n",
    "df10 = pd.DataFrame({'Case':list('AAABAABAA'),'Data':np.random.randn(9,)})\n",
    "print(df10)"
   ]
  },
  {
   "cell_type": "code",
   "execution_count": 22,
   "metadata": {},
   "outputs": [
    {
     "name": "stdout",
     "output_type": "stream",
     "text": [
      "  Case      Data\n",
      "0    A -0.590078\n",
      "1    A  0.171041\n",
      "2    A  1.456223\n",
      "3    B -0.983939\n"
     ]
    }
   ],
   "source": [
    "dfs = list(zip(*df10.groupby((1 * (df10['Case'] == 'B')).cumsum().\\\n",
    "                             rolling(window=3,min_periods=1).median())))[-1]\n",
    "print(dfs[0])"
   ]
  },
  {
   "cell_type": "code",
   "execution_count": 23,
   "metadata": {},
   "outputs": [
    {
     "name": "stdout",
     "output_type": "stream",
     "text": [
      "  Case      Data\n",
      "4    A  0.346844\n",
      "5    A  0.510868\n",
      "6    B  0.473166\n"
     ]
    }
   ],
   "source": [
    "print(dfs[1])"
   ]
  },
  {
   "cell_type": "code",
   "execution_count": 24,
   "metadata": {},
   "outputs": [
    {
     "name": "stdout",
     "output_type": "stream",
     "text": [
      "  Case      Data\n",
      "7    A -0.553820\n",
      "8    A -1.141759\n"
     ]
    }
   ],
   "source": [
    "print(dfs[2])"
   ]
  },
  {
   "cell_type": "code",
   "execution_count": 25,
   "metadata": {},
   "outputs": [
    {
     "name": "stdout",
     "output_type": "stream",
     "text": [
      "  Province       City  Sales\n",
      "0       ON    Toronto     13\n",
      "1       QC   Montreal      6\n",
      "2       BC  Vancouver     16\n",
      "3       AL    Calgary      8\n",
      "4       AL   Edmonton      4\n",
      "5       MN   Winnipeg      3\n",
      "6       ON    Windsor      1\n"
     ]
    }
   ],
   "source": [
    "# Part11 透视表\n",
    "# 部分汇总与小计\n",
    "df11 = pd.DataFrame({'Province':['ON','QC','BC','AL','AL','MN','ON'],\\\n",
    "                     'City':['Toronto','Montreal','Vancouver','Calgary','Edmonton','Winnipeg','Windsor'],\\\n",
    "                     'Sales': [13, 6, 16, 8, 4, 3, 1]})\n",
    "print(df11)"
   ]
  },
  {
   "cell_type": "code",
   "execution_count": 26,
   "metadata": {},
   "outputs": [
    {
     "name": "stdout",
     "output_type": "stream",
     "text": [
      "                    Sales\n",
      "Province City            \n",
      "AL       All         12.0\n",
      "         Calgary      8.0\n",
      "         Edmonton     4.0\n",
      "BC       All         16.0\n",
      "         Vancouver   16.0\n",
      "MN       All          3.0\n",
      "         Winnipeg     3.0\n",
      "ON       All         14.0\n",
      "         Toronto     13.0\n",
      "         Windsor      1.0\n",
      "QC       All          6.0\n",
      "         Montreal     6.0\n",
      "All      All         51.0\n",
      "         Calgary      8.0\n",
      "         Edmonton     4.0\n",
      "         Montreal     6.0\n",
      "         Toronto     13.0\n",
      "         Vancouver   16.0\n",
      "         Windsor      1.0\n",
      "         Winnipeg     3.0\n"
     ]
    }
   ],
   "source": [
    "table1 = pd.pivot_table(df11,values=['Sales'],index=['Province'],\\\n",
    "                        columns=['City'],aggfunc=np.sum,margins=True)\n",
    "a = table1.stack('City')\n",
    "print(a)"
   ]
  },
  {
   "cell_type": "code",
   "execution_count": 27,
   "metadata": {},
   "outputs": [
    {
     "name": "stdout",
     "output_type": "stream",
     "text": [
      "               value\n",
      "2011-01-31 -0.745381\n",
      "2011-02-28  0.425475\n",
      "2011-03-31  0.882151\n",
      "2011-04-30 -2.580874\n",
      "2011-05-31  1.451151\n",
      "2011-06-30  0.314341\n",
      "2011-07-31  0.203761\n",
      "2011-08-31  2.432500\n",
      "2011-09-30  0.583188\n",
      "2011-10-31 -1.389719\n",
      "2011-11-30 -1.768975\n",
      "2011-12-31  1.326899\n",
      "2012-01-31  1.223140\n",
      "2012-02-29 -0.930776\n",
      "2012-03-31  0.295680\n",
      "2012-04-30  0.086003\n",
      "2012-05-31 -0.810416\n",
      "2012-06-30 -0.223578\n",
      "2012-07-31  0.391744\n",
      "2012-08-31 -1.080558\n",
      "2012-09-30  1.193958\n",
      "2012-10-31  0.776882\n",
      "2012-11-30  0.021054\n",
      "2012-12-31  1.122681\n",
      "2013-01-31  0.413402\n",
      "2013-02-28  0.479990\n",
      "2013-03-31  0.656405\n",
      "2013-04-30 -0.027017\n",
      "2013-05-31 -1.050855\n",
      "2013-06-30 -0.874881\n",
      "2013-07-31 -1.359947\n",
      "2013-08-31  0.197538\n",
      "2013-09-30  0.190300\n",
      "2013-10-31  0.037138\n",
      "2013-11-30  0.121957\n",
      "2013-12-31 -0.209781\n"
     ]
    }
   ],
   "source": [
    "# Part12 按年生成 DataFrame\n",
    "# 跨列表创建年月\n",
    "df12 = pd.DataFrame({'value':np.random.randn(36,)},\\\n",
    "                    index=pd.date_range('2011-01-01',freq='M',periods=36))\n",
    "print(df12)"
   ]
  },
  {
   "cell_type": "code",
   "execution_count": 28,
   "metadata": {},
   "outputs": [
    {
     "name": "stdout",
     "output_type": "stream",
     "text": [
      "        2011      2012      2013\n",
      "1  -0.745381  1.223140  0.413402\n",
      "2   0.425475 -0.930776  0.479990\n",
      "3   0.882151  0.295680  0.656405\n",
      "4  -2.580874  0.086003 -0.027017\n",
      "5   1.451151 -0.810416 -1.050855\n",
      "6   0.314341 -0.223578 -0.874881\n",
      "7   0.203761  0.391744 -1.359947\n",
      "8   2.432500 -1.080558  0.197538\n",
      "9   0.583188  1.193958  0.190300\n",
      "10 -1.389719  0.776882  0.037138\n",
      "11 -1.768975  0.021054  0.121957\n",
      "12  1.326899  1.122681 -0.209781\n"
     ]
    }
   ],
   "source": [
    "a = pd.pivot_table(df12,index=df12.index.month,columns=df12.index.year,\\\n",
    "                   values='value',aggfunc='sum')\n",
    "print(a)"
   ]
  },
  {
   "cell_type": "code",
   "execution_count": 29,
   "metadata": {},
   "outputs": [
    {
     "name": "stdout",
     "output_type": "stream",
     "text": [
      "                 A          B\n",
      "I    [2, 4, 8, 16]  [a, b, c]\n",
      "II      [100, 200]   [jj, kk]\n",
      "III   [10, 20, 30]      [ccc]\n"
     ]
    }
   ],
   "source": [
    "# Part13 Apply函数\n",
    "# 把嵌入列表 转换为 多层索引 DataFrame\n",
    "df13 = pd.DataFrame({'A':[[2,4,8,16],[100,200],[10,20,30]],\\\n",
    "                     'B':[['a','b','c'],['jj','kk'],['ccc']]},\\\n",
    "                    index=['I','II','III'])\n",
    "print(df13)"
   ]
  },
  {
   "cell_type": "code",
   "execution_count": 30,
   "metadata": {},
   "outputs": [
    {
     "name": "stdout",
     "output_type": "stream",
     "text": [
      "         0    1    2     3\n",
      "I   A    2    4    8  16.0\n",
      "    B    a    b    c   NaN\n",
      "II  A  100  200  NaN   NaN\n",
      "    B   jj   kk  NaN   NaN\n",
      "III A   10   20   30   NaN\n",
      "    B  ccc  NaN  NaN   NaN\n"
     ]
    }
   ],
   "source": [
    "def SeriesFromSubList(x):\n",
    "    return pd.Series(x)\n",
    "a = pd.concat({ind:row.apply(SeriesFromSubList) for ind,row in df13.iterrows()})\n",
    "print(a)"
   ]
  },
  {
   "cell_type": "code",
   "execution_count": 31,
   "metadata": {},
   "outputs": [
    {
     "name": "stdout",
     "output_type": "stream",
     "text": [
      "                   A         B\n",
      "2001-01-01  0.000110  0.000088\n",
      "2001-01-02  0.000088  0.000167\n",
      "2001-01-03  0.000074 -0.000259\n",
      "2001-01-04  0.000026 -0.000013\n",
      "2001-01-05  0.000005 -0.000021\n",
      "...              ...       ...\n",
      "2006-06-19 -0.000017 -0.000012\n",
      "2006-06-20  0.000006 -0.000095\n",
      "2006-06-21  0.000007  0.000081\n",
      "2006-06-22  0.000132 -0.000024\n",
      "2006-06-23 -0.000038  0.000050\n",
      "\n",
      "[2000 rows x 2 columns]\n"
     ]
    }
   ],
   "source": [
    "# 返回 Series\n",
    "df14 = pd.DataFrame(np.random.randn(2000,2) / 10000,\\\n",
    "                    index=pd.date_range('2001-01-01',periods=2000),\\\n",
    "                    columns=['A',\"B\"])\n",
    "print(df14)"
   ]
  },
  {
   "cell_type": "code",
   "execution_count": 32,
   "metadata": {},
   "outputs": [
    {
     "name": "stdout",
     "output_type": "stream",
     "text": [
      "2001-01-01    0.014827\n",
      "2001-01-02    0.014640\n",
      "2001-01-03    0.013233\n",
      "2001-01-04    0.013968\n",
      "2001-01-05    0.013234\n",
      "                ...   \n",
      "2006-04-30   -0.009307\n",
      "2006-05-01   -0.010029\n",
      "2006-05-02   -0.010435\n",
      "2006-05-03   -0.011174\n",
      "2006-05-04   -0.010466\n",
      "Length: 1950, dtype: float64\n"
     ]
    }
   ],
   "source": [
    "def gm(df,const):\n",
    "    v = ((((df.A + df.B) + 1).cumprod())-1) * const\n",
    "    return v.iloc[-1]\n",
    "s = pd.Series({df14.index[i]:gm(df14.iloc[i:min(i + 51,len(df14) - 1)],5) for i in range(len(df14) - 50)})\n",
    "print(s)"
   ]
  },
  {
   "cell_type": "code",
   "execution_count": 33,
   "metadata": {},
   "outputs": [
    {
     "name": "stdout",
     "output_type": "stream",
     "text": [
      "                Open     Close  Volume\n",
      "2014-01-01 -0.057045  0.304154     639\n",
      "2014-01-02  0.795727  0.791772    1794\n",
      "2014-01-03  0.564152 -0.191377     678\n",
      "2014-01-04 -1.406398  0.047722    1800\n",
      "2014-01-05  0.682064 -0.028551    1335\n",
      "...              ...       ...     ...\n",
      "2014-04-06  0.505301  0.018029     449\n",
      "2014-04-07  0.402810 -1.501956    1889\n",
      "2014-04-08 -1.001961 -1.482499    1301\n",
      "2014-04-09  2.358300 -1.417115    1945\n",
      "2014-04-10  0.248750 -0.197447    1194\n",
      "\n",
      "[100 rows x 3 columns]\n"
     ]
    }
   ],
   "source": [
    "# Part14 返回标量值\n",
    "# Rolling Apply to multiple columns where function returns a Scalar (Volume Weighted Average Price)\n",
    "# 对多列执行滚动 Apply，函数返回标量值（成交价加权平均价）\n",
    "rng = pd.date_range(start='2014-01-01', periods=100)\n",
    "df15 = pd.DataFrame({'Open': np.random.randn(len(rng)),\\\n",
    "                     'Close': np.random.randn(len(rng)),\\\n",
    "                     'Volume': np.random.randint(100, 2000, len(rng))},\\\n",
    "                    index=rng)\n",
    "print(df15)"
   ]
  },
  {
   "cell_type": "code",
   "execution_count": 34,
   "metadata": {},
   "outputs": [
    {
     "name": "stdout",
     "output_type": "stream",
     "text": [
      "2014-01-06    0.25\n",
      "2014-01-07    0.43\n",
      "2014-01-08    0.52\n",
      "2014-01-09    0.75\n",
      "2014-01-10    0.45\n",
      "              ... \n",
      "2014-04-06   -0.11\n",
      "2014-04-07    0.39\n",
      "2014-04-08   -0.14\n",
      "2014-04-09   -0.39\n",
      "2014-04-10   -0.85\n",
      "Length: 95, dtype: float64\n"
     ]
    }
   ],
   "source": [
    "def vwap(bars):\n",
    "    return ((bars.Close * bars.Volume).sum() / bars.Volume.sum())\n",
    "\n",
    "window = 5\n",
    "\n",
    "s = pd.concat([(pd.Series(vwap(df15.iloc[i:i + window]),\\\n",
    "                          index=[df15.index[i + window]])) for i in range(len(df15) - window)])\n",
    "print(s.round(2))"
   ]
  },
  {
   "cell_type": "code",
   "execution_count": null,
   "metadata": {},
   "outputs": [],
   "source": []
  }
 ],
 "metadata": {
  "kernelspec": {
   "display_name": "Python 3",
   "language": "python",
   "name": "python3"
  },
  "language_info": {
   "codemirror_mode": {
    "name": "ipython",
    "version": 3
   },
   "file_extension": ".py",
   "mimetype": "text/x-python",
   "name": "python",
   "nbconvert_exporter": "python",
   "pygments_lexer": "ipython3",
   "version": "3.7.6"
  }
 },
 "nbformat": 4,
 "nbformat_minor": 4
}
