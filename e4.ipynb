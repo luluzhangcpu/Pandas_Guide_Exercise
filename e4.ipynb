{
 "cells": [
  {
   "cell_type": "code",
   "execution_count": 3,
   "metadata": {},
   "outputs": [],
   "source": [
    "# 缺失数据\n",
    "import pandas as pd\n",
    "import numpy as np"
   ]
  },
  {
   "cell_type": "code",
   "execution_count": 4,
   "metadata": {},
   "outputs": [
    {
     "name": "stdout",
     "output_type": "stream",
     "text": [
      "                   A\n",
      "2013-08-01  0.459326\n",
      "2013-08-02 -1.373381\n",
      "2013-08-05 -0.783068\n",
      "2013-08-06  1.684491\n",
      "2013-08-07 -0.434926\n",
      "2013-08-08 -0.839768\n"
     ]
    }
   ],
   "source": [
    "# Part1 用带标签的字典创建多层索引\n",
    "df1 = pd.DataFrame(np.random.randn(6,1),\\\n",
    "                   index=pd.date_range('2013-08-01',periods=6,freq='B'),\\\n",
    "                   columns=list('A'))\n",
    "print(df1)"
   ]
  },
  {
   "cell_type": "code",
   "execution_count": 5,
   "metadata": {},
   "outputs": [
    {
     "name": "stdout",
     "output_type": "stream",
     "text": [
      "                   A\n",
      "2013-08-01  0.459326\n",
      "2013-08-02 -1.373381\n",
      "2013-08-05 -0.783068\n",
      "2013-08-06  1.684491\n",
      "2013-08-07 -0.434926\n",
      "2013-08-08 -0.839768\n"
     ]
    }
   ],
   "source": [
    "# 浅复制一张表，做备用\n",
    "df2 = df1.copy()\n",
    "print(df2)"
   ]
  },
  {
   "cell_type": "code",
   "execution_count": 6,
   "metadata": {},
   "outputs": [
    {
     "name": "stdout",
     "output_type": "stream",
     "text": [
      "                   A\n",
      "2013-08-01  0.459326\n",
      "2013-08-02 -1.373381\n",
      "2013-08-05 -0.783068\n",
      "2013-08-06       NaN\n",
      "2013-08-07 -0.434926\n",
      "2013-08-08 -0.839768\n"
     ]
    }
   ],
   "source": [
    "# 设置缺失值\n",
    "\n",
    "df1.loc[df1.index[3],'A'] = np.nan\n",
    "print(df1)"
   ]
  },
  {
   "cell_type": "code",
   "execution_count": 7,
   "metadata": {},
   "outputs": [
    {
     "name": "stdout",
     "output_type": "stream",
     "text": [
      "                   A\n",
      "2013-08-08 -0.839768\n",
      "2013-08-07 -0.434926\n",
      "2013-08-06 -0.434926\n",
      "2013-08-05 -0.783068\n",
      "2013-08-02 -1.373381\n",
      "2013-08-01  0.459326\n"
     ]
    }
   ],
   "source": [
    "# 向前填充逆序时间序列\n",
    "df1 = df1.reindex(df1.index[::-1]).ffill()\n",
    "print(df1)"
   ]
  },
  {
   "cell_type": "code",
   "execution_count": 8,
   "metadata": {},
   "outputs": [
    {
     "name": "stdout",
     "output_type": "stream",
     "text": [
      "                   A\n",
      "2013-08-01  0.459326\n",
      "2013-08-02 -1.373381\n",
      "2013-08-05 -0.783068\n",
      "2013-08-06       NaN\n",
      "2013-08-07 -0.434926\n",
      "2013-08-08 -0.839768\n"
     ]
    }
   ],
   "source": [
    "# 设置缺失值\n",
    "\n",
    "df2.loc[df2.index[3],'A'] = np.nan\n",
    "print(df2)"
   ]
  },
  {
   "cell_type": "code",
   "execution_count": 9,
   "metadata": {},
   "outputs": [
    {
     "name": "stdout",
     "output_type": "stream",
     "text": [
      "                   A\n",
      "2013-08-01  0.459326\n",
      "2013-08-02 -1.373381\n",
      "2013-08-05 -0.783068\n",
      "2013-08-06 -0.783068\n",
      "2013-08-07 -0.434926\n",
      "2013-08-08 -0.839768\n"
     ]
    }
   ],
   "source": [
    "# 直接向前填充时间序列\n",
    "df2 = df2.ffill()\n",
    "print(df2)"
   ]
  },
  {
   "cell_type": "code",
   "execution_count": null,
   "metadata": {},
   "outputs": [],
   "source": []
  }
 ],
 "metadata": {
  "kernelspec": {
   "display_name": "Python 3",
   "language": "python",
   "name": "python3"
  },
  "language_info": {
   "codemirror_mode": {
    "name": "ipython",
    "version": 3
   },
   "file_extension": ".py",
   "mimetype": "text/x-python",
   "name": "python",
   "nbconvert_exporter": "python",
   "pygments_lexer": "ipython3",
   "version": "3.7.6"
  }
 },
 "nbformat": 4,
 "nbformat_minor": 4
}
