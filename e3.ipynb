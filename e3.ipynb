{
 "cells": [
  {
   "cell_type": "code",
   "execution_count": 1,
   "metadata": {},
   "outputs": [],
   "source": [
    "# 多层索引\n",
    "import pandas as pd\n",
    "import numpy as np"
   ]
  },
  {
   "cell_type": "code",
   "execution_count": 2,
   "metadata": {},
   "outputs": [
    {
     "name": "stdout",
     "output_type": "stream",
     "text": [
      "   row  One_X  One_Y  Two_X  Two_Y\n",
      "0    0    1.1    1.2   1.11   1.22\n",
      "1    1    1.1    1.2   1.11   1.22\n",
      "2    2    1.1    1.2   1.11   1.22\n"
     ]
    }
   ],
   "source": [
    "# Part1 用带标签的字典创建多层索引\n",
    "df1 = pd.DataFrame({'row':[0,1,2],\\\n",
    "                    'One_X':[1.1,1.1,1.1],\\\n",
    "                    'One_Y':[1.2,1.2,1.2],\\\n",
    "                    'Two_X':[1.11,1.11,1.11],\\\n",
    "                    'Two_Y':[1.22,1.22,1.22]})\n",
    "print(df1)"
   ]
  },
  {
   "cell_type": "code",
   "execution_count": 3,
   "metadata": {},
   "outputs": [
    {
     "name": "stdout",
     "output_type": "stream",
     "text": [
      "     One_X  One_Y  Two_X  Two_Y\n",
      "row                            \n",
      "0      1.1    1.2   1.11   1.22\n",
      "1      1.1    1.2   1.11   1.22\n",
      "2      1.1    1.2   1.11   1.22\n"
     ]
    }
   ],
   "source": [
    "# 设置索引标签\n",
    "df1 = df1.set_index('row')\n",
    "print(df1)"
   ]
  },
  {
   "cell_type": "code",
   "execution_count": 4,
   "metadata": {},
   "outputs": [
    {
     "name": "stdout",
     "output_type": "stream",
     "text": [
      "     One        Two      \n",
      "       X    Y     X     Y\n",
      "row                      \n",
      "0    1.1  1.2  1.11  1.22\n",
      "1    1.1  1.2  1.11  1.22\n",
      "2    1.1  1.2  1.11  1.22\n"
     ]
    }
   ],
   "source": [
    "# 设置成多层索引的列\n",
    "df1.columns = pd.MultiIndex.from_tuples([tuple(c.split('_')) for c in df1.columns])\n",
    "print(df1)"
   ]
  },
  {
   "cell_type": "code",
   "execution_count": 5,
   "metadata": {},
   "outputs": [
    {
     "name": "stdout",
     "output_type": "stream",
     "text": [
      "    level_1     X     Y\n",
      "row                    \n",
      "0       One  1.10  1.20\n",
      "0       Two  1.11  1.22\n",
      "1       One  1.10  1.20\n",
      "1       Two  1.11  1.22\n",
      "2       One  1.10  1.20\n",
      "2       Two  1.11  1.22\n"
     ]
    }
   ],
   "source": [
    "# 先 stack，再 reset 索引\n",
    "df1 = df1.stack(0).reset_index(1)\n",
    "print(df1)"
   ]
  },
  {
   "cell_type": "code",
   "execution_count": 6,
   "metadata": {},
   "outputs": [
    {
     "name": "stdout",
     "output_type": "stream",
     "text": [
      "    Sample  All_X  All_Y\n",
      "row                     \n",
      "0      One   1.10   1.20\n",
      "0      Two   1.11   1.22\n",
      "1      One   1.10   1.20\n",
      "1      Two   1.11   1.22\n",
      "2      One   1.10   1.20\n",
      "2      Two   1.11   1.22\n"
     ]
    }
   ],
   "source": [
    "# 修整标签，将上述 columns 改名\n",
    "df1.columns = ['Sample','All_X','All_Y']\n",
    "print(df1)"
   ]
  },
  {
   "cell_type": "code",
   "execution_count": 7,
   "metadata": {},
   "outputs": [
    {
     "name": "stdout",
     "output_type": "stream",
     "text": [
      "          A                   B                  C          \n",
      "          O         I         O        I         O         I\n",
      "n -0.775432  1.951352 -0.351463  0.27430 -1.243607 -1.399602\n",
      "m -0.398901  0.927159 -0.339113 -0.76981 -0.812962 -0.485457\n"
     ]
    }
   ],
   "source": [
    "# Part2 运算--多层索引运算要用广播机制\n",
    "cols = pd.MultiIndex.from_tuples([(x,y) for x in ['A','B','C'] for y in ['O','I']])\n",
    "df2 = pd.DataFrame(np.random.randn(2,6),index=['n','m'],columns=cols)\n",
    "print(df2)"
   ]
  },
  {
   "cell_type": "code",
   "execution_count": 8,
   "metadata": {},
   "outputs": [
    {
     "name": "stdout",
     "output_type": "stream",
     "text": [
      "          O         I\n",
      "n -2.370503  0.826050\n",
      "m -1.550976 -0.328109\n"
     ]
    }
   ],
   "source": [
    "# 列的内层索引\n",
    "print(df2.sum(level = 1,axis = 1))"
   ]
  },
  {
   "cell_type": "code",
   "execution_count": 9,
   "metadata": {},
   "outputs": [
    {
     "name": "stdout",
     "output_type": "stream",
     "text": [
      "          A         B         C\n",
      "n  1.175920 -0.077164 -2.643209\n",
      "m  0.528258 -1.108923 -1.298419\n"
     ]
    }
   ],
   "source": [
    "# 列的外层索引\n",
    "print(df2.sum(level = 0,axis = 1))"
   ]
  },
  {
   "cell_type": "code",
   "execution_count": 10,
   "metadata": {},
   "outputs": [
    {
     "name": "stdout",
     "output_type": "stream",
     "text": [
      "          A                   B              C     \n",
      "          O         I         O         I    O    I\n",
      "n  0.623535 -1.394219  0.282616 -0.195984  1.0  1.0\n",
      "m  0.490676 -1.909867  0.417133  1.585743  1.0  1.0\n"
     ]
    }
   ],
   "source": [
    "# div(10),除法，即，元素值/10\n",
    "df2 = df2.div(df2['C'],level=1)\n",
    "print(df2)"
   ]
  },
  {
   "cell_type": "code",
   "execution_count": 11,
   "metadata": {},
   "outputs": [
    {
     "name": "stdout",
     "output_type": "stream",
     "text": [
      "        MyData\n",
      "AA one      11\n",
      "   six      22\n",
      "BB one      33\n",
      "   two      44\n",
      "   six      55\n"
     ]
    }
   ],
   "source": [
    "# Part3 切片-- 用xs 切片多层索引\n",
    "cords = [('AA','one'),('AA','six'),\\\n",
    "         ('BB','one'),('BB','two'),('BB','six')]\n",
    "c = pd.MultiIndex.from_tuples(cords)\n",
    "df3 = pd.DataFrame(range(11,56,11),index=c,columns=['MyData'])\n",
    "print(df3)"
   ]
  },
  {
   "cell_type": "code",
   "execution_count": 12,
   "metadata": {},
   "outputs": [
    {
     "name": "stdout",
     "output_type": "stream",
     "text": [
      "     MyData\n",
      "one      33\n",
      "two      44\n",
      "six      55\n"
     ]
    }
   ],
   "source": [
    "# 提取第一层与索引第一个轴交叉数据\n",
    "# level、axis 均可选数值；默认为0\n",
    "# level 为0，则为内层\n",
    "a = df3.xs('BB',level=0,axis=0)\n",
    "print(a)"
   ]
  },
  {
   "cell_type": "code",
   "execution_count": 13,
   "metadata": {},
   "outputs": [
    {
     "name": "stdout",
     "output_type": "stream",
     "text": [
      "    MyData\n",
      "AA      22\n",
      "BB      55\n"
     ]
    }
   ],
   "source": [
    "# 现在是 第1个轴的第2层;level 为1，即为外层\n",
    "b = df3.xs('six',level=1,axis=0)\n",
    "print(b)"
   ]
  },
  {
   "cell_type": "code",
   "execution_count": 14,
   "metadata": {},
   "outputs": [],
   "source": [
    "# Part4 用xs切片 多层索引--方法2\n",
    "import itertools"
   ]
  },
  {
   "cell_type": "code",
   "execution_count": 15,
   "metadata": {},
   "outputs": [],
   "source": [
    "a = list(itertools.product(['Ada','Quinn','Violet'],\\\n",
    "                           ['Comp','Math','Sci']))\n",
    "b = list(itertools.product(['Exams','Labs'],\\\n",
    "                           ['I','II']))"
   ]
  },
  {
   "cell_type": "code",
   "execution_count": 17,
   "metadata": {},
   "outputs": [],
   "source": [
    "indx = pd.MultiIndex.from_tuples(a,names=['Student','Course'])\n",
    "cols = pd.MultiIndex.from_tuples(b)"
   ]
  },
  {
   "cell_type": "code",
   "execution_count": 18,
   "metadata": {},
   "outputs": [
    {
     "name": "stdout",
     "output_type": "stream",
     "text": [
      "[[70, 71, 72, 73], [71, 73, 75, 74], [72, 75, 75, 75], [73, 74, 75, 76], [74, 76, 78, 77], [75, 78, 78, 78], [76, 77, 78, 79], [77, 79, 81, 80], [78, 81, 81, 81]]\n"
     ]
    }
   ],
   "source": [
    "data1 = [[70+x+y+(x*y)%3 for x in range(4)] for y in range(9)]\n",
    "print(data1)"
   ]
  },
  {
   "cell_type": "code",
   "execution_count": 19,
   "metadata": {},
   "outputs": [
    {
     "name": "stdout",
     "output_type": "stream",
     "text": [
      "               Exams     Labs    \n",
      "                   I  II    I  II\n",
      "Student Course                   \n",
      "Ada     Comp      70  71   72  73\n",
      "        Math      71  73   75  74\n",
      "        Sci       72  75   75  75\n",
      "Quinn   Comp      73  74   75  76\n",
      "        Math      74  76   78  77\n",
      "        Sci       75  78   78  78\n",
      "Violet  Comp      76  77   78  79\n",
      "        Math      77  79   81  80\n",
      "        Sci       78  81   81  81\n"
     ]
    }
   ],
   "source": [
    "# 构建多层索引的 DataFrame\n",
    "df4 = pd.DataFrame(data1,index=indx,columns=cols)\n",
    "print(df4)"
   ]
  },
  {
   "cell_type": "code",
   "execution_count": 20,
   "metadata": {},
   "outputs": [
    {
     "name": "stdout",
     "output_type": "stream",
     "text": [
      "       Exams     Labs    \n",
      "           I  II    I  II\n",
      "Course                   \n",
      "Comp      76  77   78  79\n",
      "Math      77  79   81  80\n",
      "Sci       78  81   81  81\n"
     ]
    }
   ],
   "source": [
    "print(df4.loc['Violet'])"
   ]
  },
  {
   "cell_type": "code",
   "execution_count": 21,
   "metadata": {},
   "outputs": [
    {
     "name": "stdout",
     "output_type": "stream",
     "text": [
      "               Exams     Labs    \n",
      "                   I  II    I  II\n",
      "Student Course                   \n",
      "Ada     Math      71  73   75  74\n",
      "Quinn   Math      74  76   78  77\n",
      "Violet  Math      77  79   81  80\n"
     ]
    }
   ],
   "source": [
    "# 各种 索引切片尝试\n",
    "All = slice(None)\n",
    "print(df4.loc[(All,'Math'),All])"
   ]
  },
  {
   "cell_type": "code",
   "execution_count": 22,
   "metadata": {},
   "outputs": [
    {
     "name": "stdout",
     "output_type": "stream",
     "text": [
      "               Exams     Labs    \n",
      "                   I  II    I  II\n",
      "Student Course                   \n",
      "Ada     Math      71  73   75  74\n",
      "Quinn   Math      74  76   78  77\n"
     ]
    }
   ],
   "source": [
    "print(df4.loc[(slice('Ada','Quinn'),'Math'),All])"
   ]
  },
  {
   "cell_type": "code",
   "execution_count": 23,
   "metadata": {},
   "outputs": [
    {
     "name": "stdout",
     "output_type": "stream",
     "text": [
      "                 I  II\n",
      "Student Course        \n",
      "Ada     Math    71  73\n",
      "Quinn   Math    74  76\n",
      "Violet  Math    77  79\n"
     ]
    }
   ],
   "source": [
    "print(df4.loc[(All,'Math'),'Exams'])"
   ]
  },
  {
   "cell_type": "code",
   "execution_count": 24,
   "metadata": {},
   "outputs": [
    {
     "name": "stdout",
     "output_type": "stream",
     "text": [
      "               Exams Labs\n",
      "                  II   II\n",
      "Student Course           \n",
      "Ada     Math      73   74\n",
      "Quinn   Math      76   77\n",
      "Violet  Math      79   80\n"
     ]
    }
   ],
   "source": [
    "print(df4.loc[(All,'Math'),(All,'II')])"
   ]
  },
  {
   "cell_type": "code",
   "execution_count": null,
   "metadata": {},
   "outputs": [],
   "source": []
  }
 ],
 "metadata": {
  "kernelspec": {
   "display_name": "Python 3",
   "language": "python",
   "name": "python3"
  },
  "language_info": {
   "codemirror_mode": {
    "name": "ipython",
    "version": 3
   },
   "file_extension": ".py",
   "mimetype": "text/x-python",
   "name": "python",
   "nbconvert_exporter": "python",
   "pygments_lexer": "ipython3",
   "version": "3.7.6"
  }
 },
 "nbformat": 4,
 "nbformat_minor": 4
}
