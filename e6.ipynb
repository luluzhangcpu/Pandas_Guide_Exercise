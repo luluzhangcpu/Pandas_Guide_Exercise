{
 "cells": [
  {
   "cell_type": "code",
   "execution_count": 2,
   "metadata": {},
   "outputs": [],
   "source": [
    "# e6 可视化\n",
    "# eg，为分层变量的每个四分位数 绘制箱型图\n",
    "\n",
    "import pandas as pd\n",
    "import numpy as np\n",
    "from matplotlib import pyplot as plt"
   ]
  },
  {
   "cell_type": "code",
   "execution_count": 3,
   "metadata": {},
   "outputs": [
    {
     "name": "stdout",
     "output_type": "stream",
     "text": [
      "    stratifying_var       price\n",
      "0          0.510791  101.150829\n",
      "1         30.609246  105.048316\n",
      "2         65.863996  106.148274\n",
      "3         39.314149  101.839721\n",
      "4         80.725406   94.848623\n",
      "5         28.013309   98.345221\n",
      "6         83.821285   87.521686\n",
      "7         50.974222  105.790741\n",
      "8         69.913951   95.445298\n",
      "9         69.842701  103.063400\n",
      "10        93.046404  102.128013\n",
      "11        55.615322  105.241883\n",
      "12         3.159811   90.374782\n",
      "13        34.746340  104.922652\n",
      "14        16.874649   96.531779\n",
      "15        78.819482  105.564205\n",
      "16        33.420403  103.772937\n",
      "17        44.037472  104.016702\n",
      "18        99.436875  104.178296\n",
      "19        90.379550  109.999852\n"
     ]
    }
   ],
   "source": [
    "df1 = pd.DataFrame({'stratifying_var': np.random.uniform(0, 100, 20),\\\n",
    "                   'price': np.random.normal(100, 5, 20)})\n",
    "print(df1)"
   ]
  },
  {
   "cell_type": "code",
   "execution_count": 4,
   "metadata": {},
   "outputs": [
    {
     "data": {
      "image/png": "[encoded data removed]",
      "text/plain": [
       "<Figure size 432x288 with 1 Axes>"
      ]
     },
     "metadata": {
      "needs_background": "light"
     },
     "output_type": "display_data"
    }
   ],
   "source": [
    "df1['quartiles'] = pd.qcut(df1['stratifying_var'],4,\\\n",
    "                          labels=['0-25%', '25-50%', '50-75%', '75-100%'])\n",
    "df1.boxplot(column='price', by='quartiles')\n",
    "plt.show()"
   ]
  },
  {
   "cell_type": "code",
   "execution_count": null,
   "metadata": {},
   "outputs": [],
   "source": []
  }
 ],
 "metadata": {
  "kernelspec": {
   "display_name": "Python 3",
   "language": "python",
   "name": "python3"
  },
  "language_info": {
   "codemirror_mode": {
    "name": "ipython",
    "version": 3
   },
   "file_extension": ".py",
   "mimetype": "text/x-python",
   "name": "python",
   "nbconvert_exporter": "python",
   "pygments_lexer": "ipython3",
   "version": "3.7.6"
  }
 },
 "nbformat": 4,
 "nbformat_minor": 4
}
